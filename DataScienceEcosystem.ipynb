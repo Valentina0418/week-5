{
 "cells": [
  {
   "cell_type": "markdown",
   "id": "ba6a0769",
   "metadata": {},
   "source": [
    "# Data Science Tools and Ecosystem "
   ]
  },
  {
   "cell_type": "markdown",
   "id": "ad8b8682",
   "metadata": {},
   "source": [
    "In this notebook, Data Science Tools and Ecosystem are summarized."
   ]
  },
  {
   "cell_type": "markdown",
   "id": "59a87040",
   "metadata": {},
   "source": [
    "**Objectives**"
   ]
  },
  {
   "cell_type": "markdown",
   "id": "7c53d58d",
   "metadata": {},
   "source": [
    "- List popular languages for Data Science\n",
    "- This will convert 200 minutes to hours by diving by 60\n",
    "- mutiply then add integers\n",
    "- list popular libraries for data science\n",
    "- list free open source development environments"
   ]
  },
  {
   "cell_type": "markdown",
   "id": "ee39df23",
   "metadata": {},
   "source": [
    "Some of the popular languages that Data Scientists use are:"
   ]
  },
  {
   "cell_type": "markdown",
   "id": "f02d4d90",
   "metadata": {},
   "source": [
    "1. Python\n",
    "2. R\n",
    "3. Java\n",
    "4. C++ \n",
    "5. Julia"
   ]
  },
  {
   "cell_type": "markdown",
   "id": "2499ebf1",
   "metadata": {},
   "source": [
    "Some of the commonly used libraries used by Data Scientists include:\n",
    "    "
   ]
  },
  {
   "cell_type": "markdown",
   "id": "2d2e7bdf",
   "metadata": {},
   "source": [
    "1. ggplot 2. matplotlib 3.seaborn "
   ]
  },
  {
   "cell_type": "markdown",
   "id": "371ebd5f",
   "metadata": {},
   "source": [
    "# data science tools"
   ]
  },
  {
   "cell_type": "markdown",
   "id": "2d837279",
   "metadata": {},
   "source": [
    "| Index | Tool |\n",
    "| -------------| ------ |\n",
    "| 1 | RStudio |\n",
    "| 2| Apache Zeppelin |\n",
    "| 3 | Jupyter Lite |"
   ]
  },
  {
   "cell_type": "markdown",
   "id": "5d0fb252",
   "metadata": {},
   "source": [
    "### Below are a few examples of evaluating arithmetic expressions in Python"
   ]
  },
  {
   "cell_type": "code",
   "execution_count": 3,
   "id": "6b94aafe",
   "metadata": {},
   "outputs": [
    {
     "data": {
      "text/plain": [
       "8"
      ]
     },
     "execution_count": 3,
     "metadata": {},
     "output_type": "execute_result"
    }
   ],
   "source": [
    "3+5"
   ]
  },
  {
   "cell_type": "code",
   "execution_count": 4,
   "id": "ac7f25f6",
   "metadata": {},
   "outputs": [
    {
     "data": {
      "text/plain": [
       "784"
      ]
     },
     "execution_count": 4,
     "metadata": {},
     "output_type": "execute_result"
    }
   ],
   "source": [
    "8*98"
   ]
  },
  {
   "cell_type": "code",
   "execution_count": 6,
   "id": "bd33c297",
   "metadata": {},
   "outputs": [
    {
     "data": {
      "text/plain": [
       "0"
      ]
     },
     "execution_count": 6,
     "metadata": {},
     "output_type": "execute_result"
    }
   ],
   "source": [
    "3*0"
   ]
  },
  {
   "cell_type": "code",
   "execution_count": null,
   "id": "7bf3eeb4",
   "metadata": {},
   "outputs": [],
   "source": [
    "#This a simple arithmetic expression to mutiply then add integers"
   ]
  },
  {
   "cell_type": "code",
   "execution_count": 7,
   "id": "9dbaaf67",
   "metadata": {},
   "outputs": [
    {
     "data": {
      "text/plain": [
       "17"
      ]
     },
     "execution_count": 7,
     "metadata": {},
     "output_type": "execute_result"
    }
   ],
   "source": [
    "(3*4)+5\n"
   ]
  },
  {
   "cell_type": "code",
   "execution_count": null,
   "id": "01499336",
   "metadata": {},
   "outputs": [],
   "source": [
    "#This will convert 200 minutes to hours by diving by 60."
   ]
  },
  {
   "cell_type": "code",
   "execution_count": 8,
   "id": "8a3a6298",
   "metadata": {},
   "outputs": [
    {
     "data": {
      "text/plain": [
       "3.3333333333333335"
      ]
     },
     "execution_count": 8,
     "metadata": {},
     "output_type": "execute_result"
    }
   ],
   "source": [
    "200/60\n"
   ]
  },
  {
   "cell_type": "markdown",
   "id": "c4eb40c5",
   "metadata": {},
   "source": [
    "##  Author"
   ]
  },
  {
   "cell_type": "markdown",
   "id": "44c44b61",
   "metadata": {},
   "source": [
    "Valentina Yepes Montes"
   ]
  },
  {
   "cell_type": "code",
   "execution_count": null,
   "id": "d3654a32",
   "metadata": {},
   "outputs": [],
   "source": []
  }
 ],
 "metadata": {
  "kernelspec": {
   "display_name": "Python 3 (ipykernel)",
   "language": "python",
   "name": "python3"
  },
  "language_info": {
   "codemirror_mode": {
    "name": "ipython",
    "version": 3
   },
   "file_extension": ".py",
   "mimetype": "text/x-python",
   "name": "python",
   "nbconvert_exporter": "python",
   "pygments_lexer": "ipython3",
   "version": "3.11.4"
  }
 },
 "nbformat": 4,
 "nbformat_minor": 5
}
